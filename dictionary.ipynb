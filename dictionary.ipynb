{
 "cells": [
  {
   "cell_type": "code",
   "execution_count": 1,
   "metadata": {},
   "outputs": [],
   "source": [
    "import numpy as np\n",
    "import pandas as pd"
   ]
  },
  {
   "cell_type": "code",
   "execution_count": 2,
   "metadata": {},
   "outputs": [],
   "source": [
    "df = pd.read_csv('pes.txt', sep='\\t',names=('eng','per','meta'))"
   ]
  },
  {
   "cell_type": "code",
   "execution_count": 55,
   "metadata": {},
   "outputs": [
    {
     "data": {
      "text/plain": [
       "'از او چه می خواستی بپرسی؟'"
      ]
     },
     "execution_count": 55,
     "metadata": {},
     "output_type": "execute_result"
    }
   ],
   "source": [
    "#fix per sentences\n",
    "#test[1].replace(\"\\u200c\", \" \")"
   ]
  },
  {
   "cell_type": "code",
   "execution_count": 3,
   "metadata": {},
   "outputs": [],
   "source": [
    "j = 0\n",
    "for i in df['per']:\n",
    "    df.loc[j,'per'] = i.replace(\"\\u200c\", \" \")\n",
    "    j+=1\n",
    "       \n"
   ]
  },
  {
   "cell_type": "code",
   "execution_count": 5,
   "metadata": {},
   "outputs": [
    {
     "data": {
      "text/plain": [
       "<bound method NDFrame.to_csv of                                                     eng  \\\n",
       "0                                                  Who?   \n",
       "1                                                Go on.   \n",
       "2                                                Smile.   \n",
       "3                                               Attack!   \n",
       "4                                               Got it!   \n",
       "...                                                 ...   \n",
       "3109  If you don't want to put on sunscreen, that's ...   \n",
       "3110  When I got to the office, I had tons of work w...   \n",
       "3111  The difference between the right word and almo...   \n",
       "3112  If you talk to a man in a language he understa...   \n",
       "3113  Don't lend books; no one gives them back. The ...   \n",
       "\n",
       "                                                    per  \\\n",
       "0                                               چه کسی؟   \n",
       "1                              ادامه بده ( ادامه دادن )   \n",
       "2                                            لبخند بزن.   \n",
       "3                                                 حمله!   \n",
       "4                                                گرفتم!   \n",
       "...                                                 ...   \n",
       "3109  اگر تو نمی خواهی ضد آفتاب بزنی مشکل خودت است. ...   \n",
       "3110  وقتی که من به اداره رسیدم کلی کار داشتم که انت...   \n",
       "3111  تفاوت بین کلمهٔ صحیح و کلمهٔ تقریباً صحیح مانن...   \n",
       "3112  اگر با یک فرد با زبانی که می فهمد حرف بزنید، ب...   \n",
       "3113  کتاب ها را امانت ندهید؛ هیچکس آنها را پس نمی د...   \n",
       "\n",
       "                                                   meta  \n",
       "0     CC-BY 2.0 (France) Attribution: tatoeba.org #2...  \n",
       "1     CC-BY 2.0 (France) Attribution: tatoeba.org #2...  \n",
       "2     CC-BY 2.0 (France) Attribution: tatoeba.org #2...  \n",
       "3     CC-BY 2.0 (France) Attribution: tatoeba.org #1...  \n",
       "4     CC-BY 2.0 (France) Attribution: tatoeba.org #3...  \n",
       "...                                                 ...  \n",
       "3109  CC-BY 2.0 (France) Attribution: tatoeba.org #1...  \n",
       "3110  CC-BY 2.0 (France) Attribution: tatoeba.org #2...  \n",
       "3111  CC-BY 2.0 (France) Attribution: tatoeba.org #6...  \n",
       "3112  CC-BY 2.0 (France) Attribution: tatoeba.org #2...  \n",
       "3113  CC-BY 2.0 (France) Attribution: tatoeba.org #2...  \n",
       "\n",
       "[3114 rows x 3 columns]>"
      ]
     },
     "execution_count": 5,
     "metadata": {},
     "output_type": "execute_result"
    }
   ],
   "source": []
  }
 ],
 "metadata": {
  "kernelspec": {
   "display_name": "Python 3",
   "language": "python",
   "name": "python3"
  },
  "language_info": {
   "codemirror_mode": {
    "name": "ipython",
    "version": 3
   },
   "file_extension": ".py",
   "mimetype": "text/x-python",
   "name": "python",
   "nbconvert_exporter": "python",
   "pygments_lexer": "ipython3",
   "version": "3.7.9"
  }
 },
 "nbformat": 4,
 "nbformat_minor": 2
}
