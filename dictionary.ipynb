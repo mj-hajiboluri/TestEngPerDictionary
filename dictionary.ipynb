{
 "cells": [
  {
   "cell_type": "code",
   "execution_count": 1,
   "metadata": {},
   "outputs": [],
   "source": [
    "import numpy as np\n",
    "import pandas as pd"
   ]
  },
  {
   "cell_type": "code",
   "execution_count": 2,
   "metadata": {},
   "outputs": [],
   "source": [
    "df = pd.read_csv('pes.txt', sep='\\t',names=('eng','per','meta'))"
   ]
  },
  {
   "cell_type": "code",
   "execution_count": 55,
   "metadata": {},
   "outputs": [
    {
     "data": {
      "text/plain": [
       "'از او چه می خواستی بپرسی؟'"
      ]
     },
     "execution_count": 55,
     "metadata": {},
     "output_type": "execute_result"
    }
   ],
   "source": [
    "#fix per sentences\n",
    "#test[1].replace(\"\\u200c\", \" \")"
   ]
  },
  {
   "cell_type": "code",
   "execution_count": 3,
   "metadata": {},
   "outputs": [],
   "source": [
    "j = 0\n",
    "for i in df['per']:\n",
    "    df.loc[j,'per'] = i.replace(\"\\u200c\", \" \")\n",
    "    j+=1\n",
    "       \n"
   ]
  },
  {
   "cell_type": "code",
   "execution_count": 14,
   "metadata": {},
   "outputs": [],
   "source": [
    "#collecting unique charachter\n",
    "eng_char = set()\n",
    "\n",
    "for i in df['eng']:\n",
    "    temp_txt = i\n",
    "    for j in temp_txt:\n",
    "        eng_char.add(j)"
   ]
  },
  {
   "cell_type": "code",
   "execution_count": 84,
   "metadata": {},
   "outputs": [],
   "source": [
    "eng_char = sorted(eng_char)"
   ]
  },
  {
   "cell_type": "code",
   "execution_count": 88,
   "metadata": {},
   "outputs": [
    {
     "name": "stdout",
     "output_type": "stream",
     "text": [
      "(0, ' ')\n",
      "(1, '!')\n",
      "(2, '\"')\n",
      "(3, '&')\n",
      "(4, \"'\")\n",
      "(5, ',')\n",
      "(6, '-')\n",
      "(7, '.')\n",
      "(8, '0')\n",
      "(9, '1')\n",
      "(10, '2')\n",
      "(11, '3')\n",
      "(12, '4')\n",
      "(13, '5')\n",
      "(14, '6')\n",
      "(15, '7')\n",
      "(16, '8')\n",
      "(17, '9')\n",
      "(18, ':')\n",
      "(19, ';')\n",
      "(20, '?')\n",
      "(21, 'A')\n",
      "(22, 'B')\n",
      "(23, 'C')\n",
      "(24, 'D')\n",
      "(25, 'E')\n",
      "(26, 'F')\n",
      "(27, 'G')\n",
      "(28, 'H')\n",
      "(29, 'I')\n",
      "(30, 'J')\n",
      "(31, 'K')\n",
      "(32, 'L')\n",
      "(33, 'M')\n",
      "(34, 'N')\n",
      "(35, 'O')\n",
      "(36, 'P')\n",
      "(37, 'Q')\n",
      "(38, 'R')\n",
      "(39, 'S')\n",
      "(40, 'T')\n",
      "(41, 'U')\n",
      "(42, 'V')\n",
      "(43, 'W')\n",
      "(44, 'Y')\n",
      "(45, 'a')\n",
      "(46, 'b')\n",
      "(47, 'c')\n",
      "(48, 'd')\n",
      "(49, 'e')\n",
      "(50, 'f')\n",
      "(51, 'g')\n",
      "(52, 'h')\n",
      "(53, 'i')\n",
      "(54, 'j')\n",
      "(55, 'k')\n",
      "(56, 'l')\n",
      "(57, 'm')\n",
      "(58, 'n')\n",
      "(59, 'o')\n",
      "(60, 'p')\n",
      "(61, 'q')\n",
      "(62, 'r')\n",
      "(63, 's')\n",
      "(64, 't')\n",
      "(65, 'u')\n",
      "(66, 'v')\n",
      "(67, 'w')\n",
      "(68, 'x')\n",
      "(69, 'y')\n",
      "(70, 'z')\n"
     ]
    }
   ],
   "source": [
    "for i in enumerate(eng_char):\n",
    "    print(i)"
   ]
  },
  {
   "cell_type": "markdown",
   "metadata": {},
   "source": []
  },
  {
   "cell_type": "markdown",
   "metadata": {},
   "source": [
    "this the test section."
   ]
  },
  {
   "cell_type": "code",
   "execution_count": 70,
   "metadata": {},
   "outputs": [],
   "source": [
    "arr_words = []"
   ]
  },
  {
   "cell_type": "code",
   "execution_count": 71,
   "metadata": {},
   "outputs": [
    {
     "data": {
      "text/plain": [
       "list"
      ]
     },
     "execution_count": 71,
     "metadata": {},
     "output_type": "execute_result"
    }
   ],
   "source": [
    "type(arr_words)"
   ]
  },
  {
   "cell_type": "code",
   "execution_count": 72,
   "metadata": {},
   "outputs": [],
   "source": [
    "for i in range(len(text)):\n",
    "    arr_words.append((ord(text[i])))"
   ]
  },
  {
   "cell_type": "code",
   "execution_count": 78,
   "metadata": {},
   "outputs": [
    {
     "data": {
      "text/plain": [
       "'h'"
      ]
     },
     "execution_count": 78,
     "metadata": {},
     "output_type": "execute_result"
    }
   ],
   "source": [
    "chr(arr_words[1])"
   ]
  },
  {
   "cell_type": "code",
   "execution_count": 80,
   "metadata": {},
   "outputs": [
    {
     "name": "stdout",
     "output_type": "stream",
     "text": [
      "What did you want to ask him?"
     ]
    }
   ],
   "source": [
    "for i in range(len(arr_words)):\n",
    "    print(chr(arr_words[i]), end='')"
   ]
  },
  {
   "cell_type": "code",
   "execution_count": 81,
   "metadata": {},
   "outputs": [
    {
     "data": {
      "text/plain": [
       "[87,\n",
       " 104,\n",
       " 97,\n",
       " 116,\n",
       " 32,\n",
       " 100,\n",
       " 105,\n",
       " 100,\n",
       " 32,\n",
       " 121,\n",
       " 111,\n",
       " 117,\n",
       " 32,\n",
       " 119,\n",
       " 97,\n",
       " 110,\n",
       " 116,\n",
       " 32,\n",
       " 116,\n",
       " 111,\n",
       " 32,\n",
       " 97,\n",
       " 115,\n",
       " 107,\n",
       " 32,\n",
       " 104,\n",
       " 105,\n",
       " 109,\n",
       " 63]"
      ]
     },
     "execution_count": 81,
     "metadata": {},
     "output_type": "execute_result"
    }
   ],
   "source": [
    "arr_words"
   ]
  }
 ],
 "metadata": {
  "kernelspec": {
   "display_name": "Python 3",
   "language": "python",
   "name": "python3"
  },
  "language_info": {
   "codemirror_mode": {
    "name": "ipython",
    "version": 3
   },
   "file_extension": ".py",
   "mimetype": "text/x-python",
   "name": "python",
   "nbconvert_exporter": "python",
   "pygments_lexer": "ipython3",
   "version": "3.7.9"
  }
 },
 "nbformat": 4,
 "nbformat_minor": 2
}
